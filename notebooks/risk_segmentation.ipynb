Added risk segmentation notebook with pie chart
